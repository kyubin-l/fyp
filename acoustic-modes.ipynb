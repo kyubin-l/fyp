{
 "cells": [
  {
   "cell_type": "code",
   "execution_count": 1,
   "id": "260f70c6",
   "metadata": {},
   "outputs": [],
   "source": [
    "# importing libraries\n",
    "import numpy as np\n",
    "import matplotlib.pyplot as plt\n",
    "\n",
    "import sympy as sp"
   ]
  },
  {
   "cell_type": "markdown",
   "id": "a331e08b",
   "metadata": {},
   "source": [
    "The general matrix method will be solved:\n",
    "\n",
    "$$ \\mathbf{M} \\begin{bmatrix} A \\\\ B \\end{bmatrix} = 0 $$\n",
    "\n",
    "where \n",
    "\n",
    "$$ \\mathbf{M} = \\begin{bmatrix} 1 & -R_{u} \\\\ R_{d} & -exp\\left(\\frac{2i\\omega L}{\\bar{c}} \\right) \\end{bmatrix} $$\n",
    "\n",
    "\n",
    "The aim is to solve for $\\omega$ such that $det(\\mathbf{M}) = 0$"
   ]
  },
  {
   "cell_type": "code",
   "execution_count": 2,
   "id": "52573fa7",
   "metadata": {},
   "outputs": [],
   "source": [
    "# Defining variables\n",
    "c = 345 # m/s, speed of sound\n",
    "L = 0.75 # m, length of tube\n",
    "Ru = -1 # upstream reflection coefficient\n",
    "Rd = -1 # downstream refection coefficient\n",
    "j = complex(0, 1)\n",
    "e = np.e\n",
    "\n",
    "# Function which returns the determinent of the matrix M\n",
    "def matrix_det(w, Ru, Rd):\n",
    "    det = e**((2*j*w*L/c)) + Rd * Ru\n",
    "    return det"
   ]
  },
  {
   "cell_type": "code",
   "execution_count": 3,
   "id": "5b3af29b",
   "metadata": {},
   "outputs": [],
   "source": [
    "# using solver to solve for w which gives det(M) = 0\n",
    "w = sp.Symbol('w')\n",
    "[wl] = sp.solvers.solve(matrix_det(w, Ru, Rd), w)\n",
    "wl = float(wl)"
   ]
  },
  {
   "cell_type": "code",
   "execution_count": 4,
   "id": "378c83c2",
   "metadata": {},
   "outputs": [],
   "source": [
    "# plotting nodeshape, saying A = 1\n",
    "x = np.linspace(0, L, 100)\n",
    "p = np.exp((j*wl*(-x/c))) + Rd*np.exp((2*j*wl*(-L/c))*e**(j*wl*x/c))"
   ]
  },
  {
   "cell_type": "code",
   "execution_count": 5,
   "id": "96084514",
   "metadata": {},
   "outputs": [
    {
     "data": {
      "image/png": "[encoded data removed]",
      "text/plain": [
       "<Figure size 432x288 with 1 Axes>"
      ]
     },
     "metadata": {
      "needs_background": "light"
     },
     "output_type": "display_data"
    }
   ],
   "source": [
    "plt.scatter(x, np.abs(p))\n",
    "plt.ylabel('|p\\'|')\n",
    "plt.xlabel('Length')\n",
    "plt.show()"
   ]
  },
  {
   "cell_type": "code",
   "execution_count": null,
   "id": "4c58adec",
   "metadata": {},
   "outputs": [],
   "source": []
  }
 ],
 "metadata": {
  "kernelspec": {
   "display_name": "Python 3 (ipykernel)",
   "language": "python",
   "name": "python3"
  },
  "language_info": {
   "codemirror_mode": {
    "name": "ipython",
    "version": 3
   },
   "file_extension": ".py",
   "mimetype": "text/x-python",
   "name": "python",
   "nbconvert_exporter": "python",
   "pygments_lexer": "ipython3",
   "version": "3.8.10"
  }
 },
 "nbformat": 4,
 "nbformat_minor": 5
}
