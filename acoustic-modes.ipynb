{
 "cells": [
  {
   "cell_type": "code",
   "execution_count": 160,
   "id": "260f70c6",
   "metadata": {},
   "outputs": [],
   "source": [
    "# importing libraries\n",
    "import numpy as np\n",
    "import matplotlib.pyplot as plt\n",
    "import os\n",
    "\n",
    "import sympy as sp"
   ]
  },
  {
   "cell_type": "code",
   "execution_count": 161,
   "id": "58aed96e-06b1-47ec-a1e2-a3cefcf71274",
   "metadata": {},
   "outputs": [
    {
     "data": {
      "text/plain": [
       "'/mnt/c/Users/admin/Documents/workspace/fyp'"
      ]
     },
     "execution_count": 161,
     "metadata": {},
     "output_type": "execute_result"
    }
   ],
   "source": [
    "os.getcwd()"
   ]
  },
  {
   "cell_type": "markdown",
   "id": "a331e08b",
   "metadata": {},
   "source": [
    "The general matrix method will be solved for an open-open duct with no mean flow, assuming harmoic vibrations\n",
    "\n",
    "$$ \\mathbf{M} \\begin{bmatrix} A_0 \\\\ B_0 \\end{bmatrix} = \\mathbf{0} $$\n",
    "\n",
    "where \n",
    "\n",
    "$$ \\mathbf{M} = \\begin{bmatrix} 1 & -R_{u} \\\\ R_{d}exp\\left(-\\frac{i\\omega L}{\\bar{c}} \\right) & -exp\\left(\\frac{i\\omega L}{\\bar{c}} \\right) \\end{bmatrix} $$\n",
    "\n",
    "\n",
    "The aim is to solve for $\\omega$ such that $det(\\mathbf{M}) = 0$"
   ]
  },
  {
   "cell_type": "code",
   "execution_count": 162,
   "id": "52573fa7",
   "metadata": {},
   "outputs": [],
   "source": [
    "# Defining variables\n",
    "c = 345 # m/s, speed of sound\n",
    "L = 0.75 # m, length of tube\n",
    "Ru = -1 # upstream reflection coefficient\n",
    "Rd = -1 # downstream refection coefficient\n",
    "j = complex(0, 1)\n",
    "e = np.e\n",
    "\n",
    "# Function which returns the determinent of the matrix M\n",
    "def matrix_det(w, Ru, Rd):\n",
    "    det = -sp.exp(j*w*L/c) + Rd*Ru*sp.exp(-j*w*L/c)\n",
    "    return det"
   ]
  },
  {
   "cell_type": "code",
   "execution_count": 198,
   "id": "5b3af29b",
   "metadata": {},
   "outputs": [],
   "source": [
    "# using solver to solve for w which gives det(M) = 0\n",
    "w = sp.Symbol('w')\n",
    "wl = sp.solveset(matrix_det(w, Ru, Rd), w, domain=S.Complexes)"
   ]
  },
  {
   "cell_type": "code",
   "execution_count": 264,
   "id": "b10cdfb3-b486-4ff5-a728-7143697c6c24",
   "metadata": {},
   "outputs": [
    {
     "data": {
      "text/latex": [
       "$\\displaystyle \\left\\{460.0 n \\pi\\; \\middle|\\; n \\in \\mathbb{Z}\\right\\}$"
      ],
      "text/plain": [
       "ImageSet(Lambda(_n, 460.0*_n*pi), Integers)"
      ]
     },
     "execution_count": 264,
     "metadata": {},
     "output_type": "execute_result"
    }
   ],
   "source": [
    "wl"
   ]
  },
  {
   "cell_type": "code",
   "execution_count": 263,
   "id": "ecc68866-fa49-42b7-af71-4a153893c1c3",
   "metadata": {},
   "outputs": [],
   "source": [
    "# Converting infinite set into generator object, taking first 20 elements and adding to a list\n",
    "wl_iterable = iter(wl)\n",
    "wl_list = [float(next(wl_iterable)) for i in range(20)]\n",
    "wl_arr = np.asarray(wl_list)"
   ]
  },
  {
   "cell_type": "code",
   "execution_count": 269,
   "id": "378c83c2",
   "metadata": {},
   "outputs": [],
   "source": [
    "# Function for calculating pressure fluctuations, saying A0 = 1\n",
    "x = np.linspace(0, L, 100)\n",
    "x = x[..., np.newaxis]\n",
    "\n",
    "def p_fluc(wl):\n",
    "    return np.exp((j*wl*(-x/c))) + 1/Ru*e**(j*wl*x/c)\n",
    "    # return np.exp((j*wl*(-x/c))) + Rd*e**(2*j*wl*L/c)*e**(j*wl*x/c)"
   ]
  },
  {
   "cell_type": "code",
   "execution_count": 270,
   "id": "da5012e8-3b9e-4a3b-8fce-47637d02859a",
   "metadata": {},
   "outputs": [
    {
     "data": {
      "text/plain": [
       "(100, 9)"
      ]
     },
     "execution_count": 270,
     "metadata": {},
     "output_type": "execute_result"
    }
   ],
   "source": [
    "p_fluc(wl_arr[1:10]).shape"
   ]
  },
  {
   "cell_type": "code",
   "execution_count": 277,
   "id": "96084514",
   "metadata": {},
   "outputs": [
    {
     "data": {
      "image/png": "[encoded data removed]",
      "text/plain": [
       "<Figure size 432x288 with 1 Axes>"
      ]
     },
     "metadata": {
      "needs_background": "light"
     },
     "output_type": "display_data"
    }
   ],
   "source": [
    "n = 10\n",
    "p = p_fluc(wl_list[n])\n",
    "plt.plot(x, np.abs(p_fluc(wl_arr[3])))\n",
    "plt.ylabel('|p\\'|')\n",
    "plt.xlabel('Length')\n",
    "plt.show()"
   ]
  },
  {
   "cell_type": "code",
   "execution_count": null,
   "id": "c4f1dc83-f922-478f-9ffb-080cfdc8c349",
   "metadata": {},
   "outputs": [],
   "source": []
  }
 ],
 "metadata": {
  "kernelspec": {
   "display_name": "Python 3 (ipykernel)",
   "language": "python",
   "name": "python3"
  },
  "language_info": {
   "codemirror_mode": {
    "name": "ipython",
    "version": 3
   },
   "file_extension": ".py",
   "mimetype": "text/x-python",
   "name": "python",
   "nbconvert_exporter": "python",
   "pygments_lexer": "ipython3",
   "version": "3.8.10"
  }
 },
 "nbformat": 4,
 "nbformat_minor": 5
}
